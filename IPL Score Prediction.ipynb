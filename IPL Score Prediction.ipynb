{
 "cells": [
  {
   "cell_type": "markdown",
   "id": "c36020cc",
   "metadata": {},
   "source": [
    "# IPL SCORE PREDICTION"
   ]
  },
  {
   "cell_type": "markdown",
   "id": "9fb4e9eb",
   "metadata": {},
   "source": [
    "### IMPORTING LIBRARIES "
   ]
  },
  {
   "cell_type": "code",
   "execution_count": 1,
   "id": "a102a9bb",
   "metadata": {},
   "outputs": [
    {
     "name": "stdout",
     "output_type": "stream",
     "text": [
      "WARNING:tensorflow:From C:\\Users\\ASUS\\anaconda3\\Lib\\site-packages\\keras\\src\\losses.py:2976: The name tf.losses.sparse_softmax_cross_entropy is deprecated. Please use tf.compat.v1.losses.sparse_softmax_cross_entropy instead.\n",
      "\n"
     ]
    }
   ],
   "source": [
    "import pandas as pd\n",
    "import numpy as np\n",
    "import matplotlib.pyplot as plt\n",
    "import seaborn as sns\n",
    "from sklearn import preprocessing\n",
    "import keras \n",
    "import tensorflow as tf"
   ]
  },
  {
   "cell_type": "code",
   "execution_count": 2,
   "id": "2a35ba7e",
   "metadata": {},
   "outputs": [
    {
     "data": {
      "text/html": [
       "<div>\n",
       "<style scoped>\n",
       "    .dataframe tbody tr th:only-of-type {\n",
       "        vertical-align: middle;\n",
       "    }\n",
       "\n",
       "    .dataframe tbody tr th {\n",
       "        vertical-align: top;\n",
       "    }\n",
       "\n",
       "    .dataframe thead th {\n",
       "        text-align: right;\n",
       "    }\n",
       "</style>\n",
       "<table border=\"1\" class=\"dataframe\">\n",
       "  <thead>\n",
       "    <tr style=\"text-align: right;\">\n",
       "      <th></th>\n",
       "      <th>mid</th>\n",
       "      <th>date</th>\n",
       "      <th>venue</th>\n",
       "      <th>bat_team</th>\n",
       "      <th>bowl_team</th>\n",
       "      <th>batsman</th>\n",
       "      <th>bowler</th>\n",
       "      <th>runs</th>\n",
       "      <th>wickets</th>\n",
       "      <th>overs</th>\n",
       "      <th>runs_last_5</th>\n",
       "      <th>wickets_last_5</th>\n",
       "      <th>striker</th>\n",
       "      <th>non-striker</th>\n",
       "      <th>total</th>\n",
       "    </tr>\n",
       "  </thead>\n",
       "  <tbody>\n",
       "    <tr>\n",
       "      <th>0</th>\n",
       "      <td>1</td>\n",
       "      <td>2008-04-18</td>\n",
       "      <td>M Chinnaswamy Stadium</td>\n",
       "      <td>Kolkata Knight Riders</td>\n",
       "      <td>Royal Challengers Bangalore</td>\n",
       "      <td>SC Ganguly</td>\n",
       "      <td>P Kumar</td>\n",
       "      <td>1</td>\n",
       "      <td>0</td>\n",
       "      <td>0.1</td>\n",
       "      <td>1</td>\n",
       "      <td>0</td>\n",
       "      <td>0</td>\n",
       "      <td>0</td>\n",
       "      <td>222</td>\n",
       "    </tr>\n",
       "    <tr>\n",
       "      <th>1</th>\n",
       "      <td>1</td>\n",
       "      <td>2008-04-18</td>\n",
       "      <td>M Chinnaswamy Stadium</td>\n",
       "      <td>Kolkata Knight Riders</td>\n",
       "      <td>Royal Challengers Bangalore</td>\n",
       "      <td>BB McCullum</td>\n",
       "      <td>P Kumar</td>\n",
       "      <td>1</td>\n",
       "      <td>0</td>\n",
       "      <td>0.2</td>\n",
       "      <td>1</td>\n",
       "      <td>0</td>\n",
       "      <td>0</td>\n",
       "      <td>0</td>\n",
       "      <td>222</td>\n",
       "    </tr>\n",
       "    <tr>\n",
       "      <th>2</th>\n",
       "      <td>1</td>\n",
       "      <td>2008-04-18</td>\n",
       "      <td>M Chinnaswamy Stadium</td>\n",
       "      <td>Kolkata Knight Riders</td>\n",
       "      <td>Royal Challengers Bangalore</td>\n",
       "      <td>BB McCullum</td>\n",
       "      <td>P Kumar</td>\n",
       "      <td>2</td>\n",
       "      <td>0</td>\n",
       "      <td>0.2</td>\n",
       "      <td>2</td>\n",
       "      <td>0</td>\n",
       "      <td>0</td>\n",
       "      <td>0</td>\n",
       "      <td>222</td>\n",
       "    </tr>\n",
       "    <tr>\n",
       "      <th>3</th>\n",
       "      <td>1</td>\n",
       "      <td>2008-04-18</td>\n",
       "      <td>M Chinnaswamy Stadium</td>\n",
       "      <td>Kolkata Knight Riders</td>\n",
       "      <td>Royal Challengers Bangalore</td>\n",
       "      <td>BB McCullum</td>\n",
       "      <td>P Kumar</td>\n",
       "      <td>2</td>\n",
       "      <td>0</td>\n",
       "      <td>0.3</td>\n",
       "      <td>2</td>\n",
       "      <td>0</td>\n",
       "      <td>0</td>\n",
       "      <td>0</td>\n",
       "      <td>222</td>\n",
       "    </tr>\n",
       "    <tr>\n",
       "      <th>4</th>\n",
       "      <td>1</td>\n",
       "      <td>2008-04-18</td>\n",
       "      <td>M Chinnaswamy Stadium</td>\n",
       "      <td>Kolkata Knight Riders</td>\n",
       "      <td>Royal Challengers Bangalore</td>\n",
       "      <td>BB McCullum</td>\n",
       "      <td>P Kumar</td>\n",
       "      <td>2</td>\n",
       "      <td>0</td>\n",
       "      <td>0.4</td>\n",
       "      <td>2</td>\n",
       "      <td>0</td>\n",
       "      <td>0</td>\n",
       "      <td>0</td>\n",
       "      <td>222</td>\n",
       "    </tr>\n",
       "  </tbody>\n",
       "</table>\n",
       "</div>"
      ],
      "text/plain": [
       "   mid        date                  venue               bat_team  \\\n",
       "0    1  2008-04-18  M Chinnaswamy Stadium  Kolkata Knight Riders   \n",
       "1    1  2008-04-18  M Chinnaswamy Stadium  Kolkata Knight Riders   \n",
       "2    1  2008-04-18  M Chinnaswamy Stadium  Kolkata Knight Riders   \n",
       "3    1  2008-04-18  M Chinnaswamy Stadium  Kolkata Knight Riders   \n",
       "4    1  2008-04-18  M Chinnaswamy Stadium  Kolkata Knight Riders   \n",
       "\n",
       "                     bowl_team      batsman   bowler  runs  wickets  overs  \\\n",
       "0  Royal Challengers Bangalore   SC Ganguly  P Kumar     1        0    0.1   \n",
       "1  Royal Challengers Bangalore  BB McCullum  P Kumar     1        0    0.2   \n",
       "2  Royal Challengers Bangalore  BB McCullum  P Kumar     2        0    0.2   \n",
       "3  Royal Challengers Bangalore  BB McCullum  P Kumar     2        0    0.3   \n",
       "4  Royal Challengers Bangalore  BB McCullum  P Kumar     2        0    0.4   \n",
       "\n",
       "   runs_last_5  wickets_last_5  striker  non-striker  total  \n",
       "0            1               0        0            0    222  \n",
       "1            1               0        0            0    222  \n",
       "2            2               0        0            0    222  \n",
       "3            2               0        0            0    222  \n",
       "4            2               0        0            0    222  "
      ]
     },
     "execution_count": 2,
     "metadata": {},
     "output_type": "execute_result"
    }
   ],
   "source": [
    "ipl = pd.read_csv('ipl_data.csv')\n",
    "ipl.head()"
   ]
  },
  {
   "cell_type": "markdown",
   "id": "5e853c9d",
   "metadata": {},
   "source": [
    "### DATA PREPROCESSING "
   ]
  },
  {
   "cell_type": "code",
   "execution_count": 3,
   "id": "3fad52b1",
   "metadata": {},
   "outputs": [],
   "source": [
    "df = ipl.drop(['date', 'runs', 'wickets', 'overs', 'runs_last_5', 'wickets_last_5','mid', 'striker', 'non-striker'], axis =1)"
   ]
  },
  {
   "cell_type": "code",
   "execution_count": 4,
   "id": "ddf64bdd",
   "metadata": {},
   "outputs": [],
   "source": [
    "X = df.drop(['total'], axis =1)\n",
    "y = df['total']"
   ]
  },
  {
   "cell_type": "markdown",
   "id": "5c3ee23f",
   "metadata": {},
   "source": [
    "### LABEL ENCODING "
   ]
  },
  {
   "cell_type": "code",
   "execution_count": 5,
   "id": "015b080b",
   "metadata": {},
   "outputs": [],
   "source": [
    "from sklearn.preprocessing import LabelEncoder\n",
    "\n",
    "venue_encoder = LabelEncoder()\n",
    "batting_team_encoder = LabelEncoder()\n",
    "bowling_team_encoder = LabelEncoder()\n",
    "striker_encoder = LabelEncoder()\n",
    "bowler_encoder = LabelEncoder()\n",
    "\n",
    "X['venue'] = venue_encoder.fit_transform(X['venue'])\n",
    "X['bat_team'] = batting_team_encoder.fit_transform(X['bat_team'])\n",
    "X['bowl_team'] = bowling_team_encoder.fit_transform(X['bowl_team'])\n",
    "X['batsman'] = striker_encoder.fit_transform(X['batsman'])\n",
    "X['bowler'] = bowler_encoder.fit_transform(X['bowler'])"
   ]
  },
  {
   "cell_type": "markdown",
   "id": "3ba63e66",
   "metadata": {},
   "source": [
    "### TRAIN TEST SPLIT "
   ]
  },
  {
   "cell_type": "code",
   "execution_count": 6,
   "id": "e9491ef5",
   "metadata": {},
   "outputs": [],
   "source": [
    "from sklearn.model_selection import train_test_split\n",
    "X_train, X_test, y_train, y_test = train_test_split(X, y, test_size=0.3, random_state=42)"
   ]
  },
  {
   "cell_type": "markdown",
   "id": "a332d8ca",
   "metadata": {},
   "source": [
    "### FEATURE SCALING"
   ]
  },
  {
   "cell_type": "code",
   "execution_count": 7,
   "id": "ff5613b2",
   "metadata": {},
   "outputs": [],
   "source": [
    "from sklearn.preprocessing import MinMaxScaler\n",
    "\n",
    "scaler = MinMaxScaler()\n",
    "\n",
    "X_train_scaled = scaler.fit_transform(X_train)\n",
    "X_test_scaled = scaler.transform(X_test)"
   ]
  },
  {
   "cell_type": "markdown",
   "id": "c1efade2",
   "metadata": {},
   "source": [
    "### NEURAL NETWORK "
   ]
  },
  {
   "cell_type": "code",
   "execution_count": 8,
   "id": "1bdf42c6",
   "metadata": {},
   "outputs": [
    {
     "name": "stdout",
     "output_type": "stream",
     "text": [
      "WARNING:tensorflow:From C:\\Users\\ASUS\\anaconda3\\Lib\\site-packages\\keras\\src\\backend.py:1398: The name tf.executing_eagerly_outside_functions is deprecated. Please use tf.compat.v1.executing_eagerly_outside_functions instead.\n",
      "\n",
      "WARNING:tensorflow:From C:\\Users\\ASUS\\anaconda3\\Lib\\site-packages\\keras\\src\\optimizers\\__init__.py:309: The name tf.train.Optimizer is deprecated. Please use tf.compat.v1.train.Optimizer instead.\n",
      "\n"
     ]
    }
   ],
   "source": [
    "model = keras.Sequential([\n",
    "    keras.layers.Input( shape=(X_train_scaled.shape[1],)), \n",
    "    keras.layers.Dense(512, activation='relu'),\n",
    "    keras.layers.Dense(216, activation='relu'), \n",
    "    keras.layers.Dense(1, activation='linear') \n",
    "])\n",
    "\n",
    "huber_loss = tf.keras.losses.Huber(delta=1.0) \n",
    "model.compile(optimizer='adam', loss=huber_loss) "
   ]
  },
  {
   "cell_type": "markdown",
   "id": "ed80c300",
   "metadata": {},
   "source": [
    "### MODEL TRAINING"
   ]
  },
  {
   "cell_type": "code",
   "execution_count": 9,
   "id": "9f7afe08",
   "metadata": {},
   "outputs": [
    {
     "name": "stdout",
     "output_type": "stream",
     "text": [
      "Epoch 1/50\n",
      "WARNING:tensorflow:From C:\\Users\\ASUS\\anaconda3\\Lib\\site-packages\\keras\\src\\utils\\tf_utils.py:492: The name tf.ragged.RaggedTensorValue is deprecated. Please use tf.compat.v1.ragged.RaggedTensorValue instead.\n",
      "\n",
      "832/832 [==============================] - 5s 5ms/step - loss: 32.3817 - val_loss: 22.0779\n",
      "Epoch 2/50\n",
      "832/832 [==============================] - 4s 4ms/step - loss: 22.4275 - val_loss: 22.0337\n",
      "Epoch 3/50\n",
      "832/832 [==============================] - 4s 4ms/step - loss: 22.2886 - val_loss: 22.0102\n",
      "Epoch 4/50\n",
      "832/832 [==============================] - 3s 4ms/step - loss: 22.2981 - val_loss: 22.1335\n",
      "Epoch 5/50\n",
      "832/832 [==============================] - 4s 4ms/step - loss: 22.1881 - val_loss: 21.9030\n",
      "Epoch 6/50\n",
      "832/832 [==============================] - 3s 4ms/step - loss: 22.2143 - val_loss: 21.9798\n",
      "Epoch 7/50\n",
      "832/832 [==============================] - 3s 4ms/step - loss: 22.1691 - val_loss: 21.9978\n",
      "Epoch 8/50\n",
      "832/832 [==============================] - 3s 4ms/step - loss: 22.1562 - val_loss: 21.8250\n",
      "Epoch 9/50\n",
      "832/832 [==============================] - 3s 4ms/step - loss: 22.1092 - val_loss: 21.8287\n",
      "Epoch 10/50\n",
      "832/832 [==============================] - 3s 4ms/step - loss: 22.1110 - val_loss: 21.8556\n",
      "Epoch 11/50\n",
      "832/832 [==============================] - 4s 4ms/step - loss: 22.0973 - val_loss: 21.7931\n",
      "Epoch 12/50\n",
      "832/832 [==============================] - 4s 4ms/step - loss: 22.0978 - val_loss: 21.9113\n",
      "Epoch 13/50\n",
      "832/832 [==============================] - 3s 4ms/step - loss: 22.0222 - val_loss: 21.8541\n",
      "Epoch 14/50\n",
      "832/832 [==============================] - 3s 4ms/step - loss: 21.9284 - val_loss: 22.0623\n",
      "Epoch 15/50\n",
      "832/832 [==============================] - 3s 4ms/step - loss: 21.8658 - val_loss: 21.6286\n",
      "Epoch 16/50\n",
      "832/832 [==============================] - 4s 4ms/step - loss: 21.8002 - val_loss: 21.6585\n",
      "Epoch 17/50\n",
      "832/832 [==============================] - 4s 4ms/step - loss: 21.7965 - val_loss: 21.4330\n",
      "Epoch 18/50\n",
      "832/832 [==============================] - 4s 4ms/step - loss: 21.7423 - val_loss: 22.0499\n",
      "Epoch 19/50\n",
      "832/832 [==============================] - 3s 4ms/step - loss: 21.7029 - val_loss: 21.3572\n",
      "Epoch 20/50\n",
      "832/832 [==============================] - 3s 4ms/step - loss: 21.6647 - val_loss: 21.8332\n",
      "Epoch 21/50\n",
      "832/832 [==============================] - 4s 4ms/step - loss: 21.6338 - val_loss: 21.3157\n",
      "Epoch 22/50\n",
      "832/832 [==============================] - 4s 4ms/step - loss: 21.6011 - val_loss: 21.3811\n",
      "Epoch 23/50\n",
      "832/832 [==============================] - 3s 4ms/step - loss: 21.5629 - val_loss: 21.7282\n",
      "Epoch 24/50\n",
      "832/832 [==============================] - 4s 4ms/step - loss: 21.4792 - val_loss: 21.5688\n",
      "Epoch 25/50\n",
      "832/832 [==============================] - 4s 4ms/step - loss: 21.4633 - val_loss: 21.3860\n",
      "Epoch 26/50\n",
      "832/832 [==============================] - 4s 4ms/step - loss: 21.4218 - val_loss: 21.1120\n",
      "Epoch 27/50\n",
      "832/832 [==============================] - 4s 4ms/step - loss: 21.3372 - val_loss: 21.0790\n",
      "Epoch 28/50\n",
      "832/832 [==============================] - 3s 4ms/step - loss: 21.2651 - val_loss: 21.0030\n",
      "Epoch 29/50\n",
      "832/832 [==============================] - 3s 4ms/step - loss: 21.2336 - val_loss: 20.9802\n",
      "Epoch 30/50\n",
      "832/832 [==============================] - 4s 4ms/step - loss: 21.1179 - val_loss: 21.1873\n",
      "Epoch 31/50\n",
      "832/832 [==============================] - 4s 4ms/step - loss: 21.0599 - val_loss: 21.1514\n",
      "Epoch 32/50\n",
      "832/832 [==============================] - 4s 4ms/step - loss: 20.9618 - val_loss: 20.6986\n",
      "Epoch 33/50\n",
      "832/832 [==============================] - 4s 4ms/step - loss: 20.8668 - val_loss: 20.8211\n",
      "Epoch 34/50\n",
      "832/832 [==============================] - 3s 4ms/step - loss: 20.7502 - val_loss: 20.5829\n",
      "Epoch 35/50\n",
      "832/832 [==============================] - 3s 4ms/step - loss: 20.6530 - val_loss: 20.4546\n",
      "Epoch 36/50\n",
      "832/832 [==============================] - 4s 4ms/step - loss: 20.5085 - val_loss: 20.2180\n",
      "Epoch 37/50\n",
      "832/832 [==============================] - 4s 4ms/step - loss: 20.4123 - val_loss: 20.0703\n",
      "Epoch 38/50\n",
      "832/832 [==============================] - 3s 4ms/step - loss: 20.3158 - val_loss: 20.2093\n",
      "Epoch 39/50\n",
      "832/832 [==============================] - 4s 4ms/step - loss: 20.1893 - val_loss: 19.8865\n",
      "Epoch 40/50\n",
      "832/832 [==============================] - 3s 4ms/step - loss: 20.0880 - val_loss: 19.8911\n",
      "Epoch 41/50\n",
      "832/832 [==============================] - 4s 4ms/step - loss: 19.9551 - val_loss: 19.6465\n",
      "Epoch 42/50\n",
      "832/832 [==============================] - 4s 4ms/step - loss: 19.8301 - val_loss: 19.7918\n",
      "Epoch 43/50\n",
      "832/832 [==============================] - 4s 4ms/step - loss: 19.7017 - val_loss: 19.6055\n",
      "Epoch 44/50\n",
      "832/832 [==============================] - 4s 4ms/step - loss: 19.6534 - val_loss: 19.6547\n",
      "Epoch 45/50\n",
      "832/832 [==============================] - 4s 4ms/step - loss: 19.5542 - val_loss: 19.3467\n",
      "Epoch 46/50\n",
      "832/832 [==============================] - 3s 4ms/step - loss: 19.4813 - val_loss: 19.3814\n",
      "Epoch 47/50\n",
      "832/832 [==============================] - 4s 4ms/step - loss: 19.4032 - val_loss: 19.4402\n",
      "Epoch 48/50\n",
      "832/832 [==============================] - 3s 4ms/step - loss: 19.3208 - val_loss: 19.2898\n",
      "Epoch 49/50\n",
      "832/832 [==============================] - 4s 4ms/step - loss: 19.1994 - val_loss: 19.1298\n",
      "Epoch 50/50\n",
      "832/832 [==============================] - 4s 4ms/step - loss: 19.1463 - val_loss: 18.8664\n"
     ]
    },
    {
     "data": {
      "text/plain": [
       "<keras.src.callbacks.History at 0x1b54c5b83d0>"
      ]
     },
     "execution_count": 9,
     "metadata": {},
     "output_type": "execute_result"
    }
   ],
   "source": [
    "model.fit(X_train_scaled, y_train, epochs=50, batch_size=64, validation_data=(X_test_scaled, y_test))"
   ]
  },
  {
   "cell_type": "code",
   "execution_count": 10,
   "id": "fa410dcd",
   "metadata": {},
   "outputs": [
    {
     "data": {
      "text/plain": [
       "<Axes: >"
      ]
     },
     "execution_count": 10,
     "metadata": {},
     "output_type": "execute_result"
    },
    {
     "data": {
      "image/png": "[encoded data removed]",
      "text/plain": [
       "<Figure size 640x480 with 1 Axes>"
      ]
     },
     "metadata": {},
     "output_type": "display_data"
    }
   ],
   "source": [
    "model_losses = pd.DataFrame(model.history.history)\n",
    "model_losses.plot()"
   ]
  },
  {
   "cell_type": "code",
   "execution_count": 11,
   "id": "fb726fca",
   "metadata": {},
   "outputs": [
    {
     "name": "stdout",
     "output_type": "stream",
     "text": [
      "713/713 [==============================] - 1s 2ms/step\n"
     ]
    },
    {
     "data": {
      "text/plain": [
       "19.35606221586067"
      ]
     },
     "execution_count": 11,
     "metadata": {},
     "output_type": "execute_result"
    }
   ],
   "source": [
    "predictions = model.predict(X_test_scaled)\n",
    "\n",
    "from sklearn.metrics import mean_absolute_error,mean_squared_error\n",
    "mean_absolute_error(y_test,predictions)"
   ]
  },
  {
   "cell_type": "code",
   "execution_count": 12,
   "id": "1a1a588d",
   "metadata": {},
   "outputs": [],
   "source": [
    "import ipywidgets as widgets\n",
    "from IPython.display import display, clear_output\n",
    "\n",
    "import warnings\n",
    "warnings.filterwarnings(\"ignore\")\n",
    "\n",
    "venue = widgets.Dropdown(options=df['venue'].unique().tolist(),description='Select Venue:')\n",
    "batting_team = widgets.Dropdown(options =df['bat_team'].unique().tolist(), description='Select Batting Team:')\n",
    "bowling_team = widgets.Dropdown(options=df['bowl_team'].unique().tolist(), description='Select BowlingTeam:')\n",
    "striker = widgets.Dropdown(options=df['batsman'].unique().tolist(), description='Select Striker:')\n",
    "bowler = widgets.Dropdown(options=df['bowler'].unique().tolist(), description='Select Bowler:')\n",
    "\n",
    "predict_button = widgets.Button(description=\"Predict Score\")\n",
    "\n",
    "def predict_score(b):\n",
    "    with output:\n",
    "        clear_output() \n",
    "\n",
    "        decoded_venue = venue_encoder.transform([venue.value])\n",
    "        decoded_batting_team = batting_team_encoder.transform([batting_team.value])\n",
    "        decoded_bowling_team = bowling_team_encoder.transform([bowling_team.value])\n",
    "        decoded_striker = striker_encoder.transform([striker.value])\n",
    "        decoded_bowler = bowler_encoder.transform([bowler.value])\n",
    "\n",
    "        input = np.array([decoded_venue, decoded_batting_team, decoded_bowling_team,decoded_striker, decoded_bowler])\n",
    "        input = input.reshape(1,5)\n",
    "        input = scaler.transform(input)\n",
    "        \n",
    "        predicted_score = model.predict(input)\n",
    "        predicted_score = int(predicted_score[0,0])\n",
    "\n",
    "        print(predicted_score)"
   ]
  },
  {
   "cell_type": "code",
   "execution_count": 14,
   "id": "3c81eaa9",
   "metadata": {},
   "outputs": [
    {
     "data": {
      "application/vnd.jupyter.widget-view+json": {
       "model_id": "d9954ba53dd94db996bbf739456b2eda",
       "version_major": 2,
       "version_minor": 0
      },
      "text/plain": [
       "Dropdown(description='Select Venue:', options=('M Chinnaswamy Stadium', 'Punjab Cricket Association Stadium, M…"
      ]
     },
     "metadata": {},
     "output_type": "display_data"
    },
    {
     "data": {
      "application/vnd.jupyter.widget-view+json": {
       "model_id": "312dfdf81ee24482ae518c947d91be88",
       "version_major": 2,
       "version_minor": 0
      },
      "text/plain": [
       "Dropdown(description='Select Batting Team:', options=('Kolkata Knight Riders', 'Chennai Super Kings', 'Rajasth…"
      ]
     },
     "metadata": {},
     "output_type": "display_data"
    },
    {
     "data": {
      "application/vnd.jupyter.widget-view+json": {
       "model_id": "ca2fada5f9454bdf89b8cd38b3c747f3",
       "version_major": 2,
       "version_minor": 0
      },
      "text/plain": [
       "Dropdown(description='Select BowlingTeam:', options=('Royal Challengers Bangalore', 'Kings XI Punjab', 'Delhi …"
      ]
     },
     "metadata": {},
     "output_type": "display_data"
    },
    {
     "data": {
      "application/vnd.jupyter.widget-view+json": {
       "model_id": "685a386344864d9c85f7132812c7c6a1",
       "version_major": 2,
       "version_minor": 0
      },
      "text/plain": [
       "Dropdown(description='Select Striker:', options=('SC Ganguly', 'BB McCullum', 'RT Ponting', 'DJ Hussey', 'Moha…"
      ]
     },
     "metadata": {},
     "output_type": "display_data"
    },
    {
     "data": {
      "application/vnd.jupyter.widget-view+json": {
       "model_id": "40da51b03c4d4cde954e573cd176dc2c",
       "version_major": 2,
       "version_minor": 0
      },
      "text/plain": [
       "Dropdown(description='Select Bowler:', options=('P Kumar', 'Z Khan', 'AA Noffke', 'JH Kallis', 'SB Joshi', 'CL…"
      ]
     },
     "metadata": {},
     "output_type": "display_data"
    },
    {
     "data": {
      "application/vnd.jupyter.widget-view+json": {
       "model_id": "8624b95cc21942219f7d22924a155080",
       "version_major": 2,
       "version_minor": 0
      },
      "text/plain": [
       "Button(description='Predict Score', style=ButtonStyle())"
      ]
     },
     "metadata": {},
     "output_type": "display_data"
    },
    {
     "data": {
      "application/vnd.jupyter.widget-view+json": {
       "model_id": "49e67cd8712f48338fe58da1ee062d74",
       "version_major": 2,
       "version_minor": 0
      },
      "text/plain": [
       "Output()"
      ]
     },
     "metadata": {},
     "output_type": "display_data"
    }
   ],
   "source": [
    "predict_button.on_click(predict_score)\n",
    "output = widgets.Output()\n",
    "display(venue, batting_team, bowling_team, striker, bowler, predict_button, output)"
   ]
  }
 ],
 "metadata": {
  "kernelspec": {
   "display_name": "Python 3 (ipykernel)",
   "language": "python",
   "name": "python3"
  },
  "language_info": {
   "codemirror_mode": {
    "name": "ipython",
    "version": 3
   },
   "file_extension": ".py",
   "mimetype": "text/x-python",
   "name": "python",
   "nbconvert_exporter": "python",
   "pygments_lexer": "ipython3",
   "version": "3.11.5"
  }
 },
 "nbformat": 4,
 "nbformat_minor": 5
}
